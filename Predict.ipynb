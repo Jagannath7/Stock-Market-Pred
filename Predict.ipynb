{
 "cells": [
  {
   "cell_type": "code",
   "execution_count": 1,
   "metadata": {
    "scrolled": true
   },
   "outputs": [],
   "source": [
    "import pandas as pd\n",
    "import numpy as np\n",
    "import pandas_datareader as pdr\n",
    "import matplotlib.pyplot as plt\n",
    "import pywt\n",
    "%matplotlib inline"
   ]
  },
  {
   "cell_type": "code",
   "execution_count": 2,
   "metadata": {},
   "outputs": [
    {
     "data": {
      "text/html": [
       "<div>\n",
       "<style scoped>\n",
       "    .dataframe tbody tr th:only-of-type {\n",
       "        vertical-align: middle;\n",
       "    }\n",
       "\n",
       "    .dataframe tbody tr th {\n",
       "        vertical-align: top;\n",
       "    }\n",
       "\n",
       "    .dataframe thead th {\n",
       "        text-align: right;\n",
       "    }\n",
       "</style>\n",
       "<table border=\"1\" class=\"dataframe\">\n",
       "  <thead>\n",
       "    <tr style=\"text-align: right;\">\n",
       "      <th></th>\n",
       "      <th>High</th>\n",
       "      <th>Low</th>\n",
       "      <th>Open</th>\n",
       "      <th>Close</th>\n",
       "      <th>Volume</th>\n",
       "      <th>Adj Close</th>\n",
       "    </tr>\n",
       "    <tr>\n",
       "      <th>Date</th>\n",
       "      <th></th>\n",
       "      <th></th>\n",
       "      <th></th>\n",
       "      <th></th>\n",
       "      <th></th>\n",
       "      <th></th>\n",
       "    </tr>\n",
       "  </thead>\n",
       "  <tbody>\n",
       "    <tr>\n",
       "      <td>2014-12-22</td>\n",
       "      <td>532.969971</td>\n",
       "      <td>520.590027</td>\n",
       "      <td>520.609985</td>\n",
       "      <td>532.299988</td>\n",
       "      <td>3319500</td>\n",
       "      <td>532.299988</td>\n",
       "    </tr>\n",
       "    <tr>\n",
       "      <td>2014-12-23</td>\n",
       "      <td>542.299988</td>\n",
       "      <td>533.719971</td>\n",
       "      <td>534.510010</td>\n",
       "      <td>538.770020</td>\n",
       "      <td>2877200</td>\n",
       "      <td>538.770020</td>\n",
       "    </tr>\n",
       "    <tr>\n",
       "      <td>2014-12-24</td>\n",
       "      <td>540.289978</td>\n",
       "      <td>535.099976</td>\n",
       "      <td>538.820007</td>\n",
       "      <td>536.929993</td>\n",
       "      <td>737700</td>\n",
       "      <td>536.929993</td>\n",
       "    </tr>\n",
       "    <tr>\n",
       "      <td>2014-12-26</td>\n",
       "      <td>543.250000</td>\n",
       "      <td>535.489990</td>\n",
       "      <td>536.929993</td>\n",
       "      <td>541.520020</td>\n",
       "      <td>1113500</td>\n",
       "      <td>541.520020</td>\n",
       "    </tr>\n",
       "    <tr>\n",
       "      <td>2014-12-29</td>\n",
       "      <td>543.929993</td>\n",
       "      <td>537.159973</td>\n",
       "      <td>540.500000</td>\n",
       "      <td>537.309998</td>\n",
       "      <td>2215000</td>\n",
       "      <td>537.309998</td>\n",
       "    </tr>\n",
       "    <tr>\n",
       "      <td>...</td>\n",
       "      <td>...</td>\n",
       "      <td>...</td>\n",
       "      <td>...</td>\n",
       "      <td>...</td>\n",
       "      <td>...</td>\n",
       "      <td>...</td>\n",
       "    </tr>\n",
       "    <tr>\n",
       "      <td>2019-12-16</td>\n",
       "      <td>1363.530029</td>\n",
       "      <td>1350.609985</td>\n",
       "      <td>1355.000000</td>\n",
       "      <td>1360.699951</td>\n",
       "      <td>1406400</td>\n",
       "      <td>1360.699951</td>\n",
       "    </tr>\n",
       "    <tr>\n",
       "      <td>2019-12-17</td>\n",
       "      <td>1364.329956</td>\n",
       "      <td>1350.770020</td>\n",
       "      <td>1362.410034</td>\n",
       "      <td>1354.890015</td>\n",
       "      <td>1647400</td>\n",
       "      <td>1354.890015</td>\n",
       "    </tr>\n",
       "    <tr>\n",
       "      <td>2019-12-18</td>\n",
       "      <td>1359.430054</td>\n",
       "      <td>1350.459961</td>\n",
       "      <td>1357.000000</td>\n",
       "      <td>1351.910034</td>\n",
       "      <td>1166500</td>\n",
       "      <td>1351.910034</td>\n",
       "    </tr>\n",
       "    <tr>\n",
       "      <td>2019-12-19</td>\n",
       "      <td>1357.530029</td>\n",
       "      <td>1348.750000</td>\n",
       "      <td>1351.910034</td>\n",
       "      <td>1356.439941</td>\n",
       "      <td>1446100</td>\n",
       "      <td>1356.439941</td>\n",
       "    </tr>\n",
       "    <tr>\n",
       "      <td>2019-12-20</td>\n",
       "      <td>1363.910034</td>\n",
       "      <td>1351.790039</td>\n",
       "      <td>1363.099976</td>\n",
       "      <td>1354.630005</td>\n",
       "      <td>1046110</td>\n",
       "      <td>1354.630005</td>\n",
       "    </tr>\n",
       "  </tbody>\n",
       "</table>\n",
       "<p>1259 rows × 6 columns</p>\n",
       "</div>"
      ],
      "text/plain": [
       "                   High          Low         Open        Close   Volume  \\\n",
       "Date                                                                      \n",
       "2014-12-22   532.969971   520.590027   520.609985   532.299988  3319500   \n",
       "2014-12-23   542.299988   533.719971   534.510010   538.770020  2877200   \n",
       "2014-12-24   540.289978   535.099976   538.820007   536.929993   737700   \n",
       "2014-12-26   543.250000   535.489990   536.929993   541.520020  1113500   \n",
       "2014-12-29   543.929993   537.159973   540.500000   537.309998  2215000   \n",
       "...                 ...          ...          ...          ...      ...   \n",
       "2019-12-16  1363.530029  1350.609985  1355.000000  1360.699951  1406400   \n",
       "2019-12-17  1364.329956  1350.770020  1362.410034  1354.890015  1647400   \n",
       "2019-12-18  1359.430054  1350.459961  1357.000000  1351.910034  1166500   \n",
       "2019-12-19  1357.530029  1348.750000  1351.910034  1356.439941  1446100   \n",
       "2019-12-20  1363.910034  1351.790039  1363.099976  1354.630005  1046110   \n",
       "\n",
       "              Adj Close  \n",
       "Date                     \n",
       "2014-12-22   532.299988  \n",
       "2014-12-23   538.770020  \n",
       "2014-12-24   536.929993  \n",
       "2014-12-26   541.520020  \n",
       "2014-12-29   537.309998  \n",
       "...                 ...  \n",
       "2019-12-16  1360.699951  \n",
       "2019-12-17  1354.890015  \n",
       "2019-12-18  1351.910034  \n",
       "2019-12-19  1356.439941  \n",
       "2019-12-20  1354.630005  \n",
       "\n",
       "[1259 rows x 6 columns]"
      ]
     },
     "execution_count": 2,
     "metadata": {},
     "output_type": "execute_result"
    }
   ],
   "source": [
    "stock = pdr.data.get_data_yahoo('GOOGL')\n",
    "stock"
   ]
  },
  {
   "cell_type": "code",
   "execution_count": 3,
   "metadata": {},
   "outputs": [
    {
     "data": {
      "text/plain": [
       "<matplotlib.axes._subplots.AxesSubplot at 0x18423d34550>"
      ]
     },
     "execution_count": 3,
     "metadata": {},
     "output_type": "execute_result"
    },
    {
     "data": {
      "image/png": "[encoded data removed]",
      "text/plain": [
       "<Figure size 432x288 with 1 Axes>"
      ]
     },
     "metadata": {
      "needs_background": "light"
     },
     "output_type": "display_data"
    }
   ],
   "source": [
    "stock['Close'].plot()"
   ]
  },
  {
   "cell_type": "code",
   "execution_count": 4,
   "metadata": {},
   "outputs": [],
   "source": [
    "training_set= np.array(stock.iloc[:1000, 1:2].values)\n",
    "testing_set = np.array(stock.iloc[1000: ,1:2].values)"
   ]
  },
  {
   "cell_type": "code",
   "execution_count": 5,
   "metadata": {},
   "outputs": [],
   "source": [
    "from sklearn.preprocessing import MinMaxScaler"
   ]
  },
  {
   "cell_type": "code",
   "execution_count": 6,
   "metadata": {},
   "outputs": [],
   "source": [
    "sc = MinMaxScaler(feature_range = (0,1))\n",
    "training_set_s = sc.fit_transform(training_set)\n",
    "testing_set_s = sc.fit_transform(testing_set)"
   ]
  },
  {
   "cell_type": "code",
   "execution_count": 7,
   "metadata": {},
   "outputs": [],
   "source": [
    "X_train = []\n",
    "y_train = []\n",
    "for i in range(60, len(training_set_s)):\n",
    "    X_train.append(training_set_s[i-60:i,0])\n",
    "    y_train.append(training_set_s[i,0])\n",
    "X_train, y_train = np.array(X_train), np.array(y_train)"
   ]
  },
  {
   "cell_type": "code",
   "execution_count": 8,
   "metadata": {},
   "outputs": [],
   "source": [
    "X_test = []\n",
    "y_test = []\n",
    "for i in range(60, len(testing_set_s)):\n",
    "    X_test.append(testing_set_s[i-60:i,0])\n",
    "    y_test.append(testing_set_s[i,0])\n",
    "X_test, y_test = np.array(X_test), np.array(y_test)"
   ]
  },
  {
   "cell_type": "code",
   "execution_count": 9,
   "metadata": {},
   "outputs": [
    {
     "name": "stdout",
     "output_type": "stream",
     "text": [
      "(940, 60) (940,)\n",
      "(199, 60) (199,)\n"
     ]
    }
   ],
   "source": [
    "print(X_train.shape, y_train.shape)\n",
    "print(X_test.shape, y_test.shape)"
   ]
  },
  {
   "cell_type": "code",
   "execution_count": 10,
   "metadata": {},
   "outputs": [],
   "source": [
    "X_train = np.reshape(X_train, (X_train.shape[0], X_train.shape[1],1))\n",
    "X_test = np.reshape(X_test, (X_test.shape[0], X_test.shape[1],1))"
   ]
  },
  {
   "cell_type": "code",
   "execution_count": 11,
   "metadata": {},
   "outputs": [
    {
     "name": "stdout",
     "output_type": "stream",
     "text": [
      "(940, 60, 1) (199, 60, 1)\n"
     ]
    }
   ],
   "source": [
    "print(X_train.shape, X_test.shape)"
   ]
  },
  {
   "cell_type": "code",
   "execution_count": 12,
   "metadata": {},
   "outputs": [
    {
     "name": "stderr",
     "output_type": "stream",
     "text": [
      "Using TensorFlow backend.\n"
     ]
    }
   ],
   "source": [
    "from keras.models import Sequential\n",
    "from keras.layers import Dense, LSTM, Dropout, Activation"
   ]
  },
  {
   "cell_type": "code",
   "execution_count": 13,
   "metadata": {},
   "outputs": [],
   "source": [
    "regression = Sequential()"
   ]
  },
  {
   "cell_type": "code",
   "execution_count": 14,
   "metadata": {},
   "outputs": [
    {
     "name": "stdout",
     "output_type": "stream",
     "text": [
      "Model: \"sequential_1\"\n",
      "_________________________________________________________________\n",
      "Layer (type)                 Output Shape              Param #   \n",
      "=================================================================\n",
      "lstm_1 (LSTM)                (None, 60, 50)            10400     \n",
      "_________________________________________________________________\n",
      "dropout_1 (Dropout)          (None, 60, 50)            0         \n",
      "_________________________________________________________________\n",
      "lstm_2 (LSTM)                (None, 60, 50)            20200     \n",
      "_________________________________________________________________\n",
      "dropout_2 (Dropout)          (None, 60, 50)            0         \n",
      "_________________________________________________________________\n",
      "lstm_3 (LSTM)                (None, 60, 50)            20200     \n",
      "_________________________________________________________________\n",
      "dropout_3 (Dropout)          (None, 60, 50)            0         \n",
      "_________________________________________________________________\n",
      "lstm_4 (LSTM)                (None, 50)                20200     \n",
      "_________________________________________________________________\n",
      "dropout_4 (Dropout)          (None, 50)                0         \n",
      "_________________________________________________________________\n",
      "activation_1 (Activation)    (None, 50)                0         \n",
      "_________________________________________________________________\n",
      "dense_1 (Dense)              (None, 1)                 51        \n",
      "=================================================================\n",
      "Total params: 71,051\n",
      "Trainable params: 71,051\n",
      "Non-trainable params: 0\n",
      "_________________________________________________________________\n"
     ]
    }
   ],
   "source": [
    "regression.add(LSTM(units = 50,return_sequences= True, input_shape = (X_train.shape[1],1)))\n",
    "regression.add(Dropout(0.2))\n",
    "regression.add(LSTM(units = 50,return_sequences= True))\n",
    "regression.add(Dropout(0.2))\n",
    "regression.add(LSTM(units = 50,return_sequences= True))\n",
    "regression.add(Dropout(0.2))\n",
    "regression.add(LSTM(units = 50,return_sequences= False))\n",
    "regression.add(Dropout(0.2))\n",
    "\n",
    "regression.add(Activation('linear'))\n",
    "\n",
    "regression.add(Dense(units = 1))\n",
    "regression.summary()"
   ]
  },
  {
   "cell_type": "code",
   "execution_count": 15,
   "metadata": {},
   "outputs": [],
   "source": [
    "regression.compile(loss = 'mean_squared_error', optimizer='adam', metrics=['accuracy'])"
   ]
  },
  {
   "cell_type": "code",
   "execution_count": 16,
   "metadata": {},
   "outputs": [
    {
     "name": "stderr",
     "output_type": "stream",
     "text": [
      "WARNING: Logging before flag parsing goes to stderr.\n",
      "W1220 23:56:47.260677 10304 deprecation_wrapper.py:119] From c:\\users\\art\\appdata\\local\\programs\\python\\python36\\lib\\site-packages\\keras\\backend\\tensorflow_backend.py:422: The name tf.global_variables is deprecated. Please use tf.compat.v1.global_variables instead.\n",
      "\n"
     ]
    },
    {
     "name": "stdout",
     "output_type": "stream",
     "text": [
      "Epoch 1/40\n",
      "940/940 [==============================] - 5s 5ms/step - loss: 0.0549 - accuracy: 0.0011\n",
      "Epoch 2/40\n",
      "940/940 [==============================] - 3s 3ms/step - loss: 0.0091 - accuracy: 0.0011\n",
      "Epoch 3/40\n",
      "940/940 [==============================] - 3s 3ms/step - loss: 0.0058 - accuracy: 0.0011\n",
      "Epoch 4/40\n",
      "940/940 [==============================] - 3s 3ms/step - loss: 0.0057 - accuracy: 0.0011\n",
      "Epoch 5/40\n",
      "940/940 [==============================] - 3s 3ms/step - loss: 0.0055 - accuracy: 0.0011\n",
      "Epoch 6/40\n",
      "940/940 [==============================] - 3s 3ms/step - loss: 0.0052 - accuracy: 0.0011\n",
      "Epoch 7/40\n",
      "940/940 [==============================] - 3s 3ms/step - loss: 0.0055 - accuracy: 0.0011\n",
      "Epoch 8/40\n",
      "940/940 [==============================] - 3s 3ms/step - loss: 0.0048 - accuracy: 0.0011\n",
      "Epoch 9/40\n",
      "940/940 [==============================] - ETA: 0s - loss: 0.0054 - accuracy: 0.00 - 3s 3ms/step - loss: 0.0054 - accuracy: 0.0011\n",
      "Epoch 10/40\n",
      "940/940 [==============================] - 3s 3ms/step - loss: 0.0059 - accuracy: 0.0011\n",
      "Epoch 11/40\n",
      "940/940 [==============================] - 3s 3ms/step - loss: 0.0052 - accuracy: 0.0011\n",
      "Epoch 12/40\n",
      "940/940 [==============================] - 4s 4ms/step - loss: 0.0043 - accuracy: 0.0011\n",
      "Epoch 13/40\n",
      "940/940 [==============================] - 4s 4ms/step - loss: 0.0048 - accuracy: 0.0011\n",
      "Epoch 14/40\n",
      "940/940 [==============================] - 4s 4ms/step - loss: 0.0049 - accuracy: 0.0011\n",
      "Epoch 15/40\n",
      "940/940 [==============================] - 4s 4ms/step - loss: 0.0041 - accuracy: 0.0011\n",
      "Epoch 16/40\n",
      "940/940 [==============================] - 4s 4ms/step - loss: 0.0042 - accuracy: 0.0011\n",
      "Epoch 17/40\n",
      "940/940 [==============================] - 4s 4ms/step - loss: 0.0044 - accuracy: 0.0011\n",
      "Epoch 18/40\n",
      "940/940 [==============================] - 3s 4ms/step - loss: 0.0048 - accuracy: 0.0011\n",
      "Epoch 19/40\n",
      "940/940 [==============================] - 3s 4ms/step - loss: 0.0042 - accuracy: 0.0011\n",
      "Epoch 20/40\n",
      "940/940 [==============================] - 3s 4ms/step - loss: 0.0041 - accuracy: 0.0011\n",
      "Epoch 21/40\n",
      "940/940 [==============================] - 3s 4ms/step - loss: 0.0043 - accuracy: 0.0011\n",
      "Epoch 22/40\n",
      "940/940 [==============================] - 4s 4ms/step - loss: 0.0043 - accuracy: 0.0011\n",
      "Epoch 23/40\n",
      "940/940 [==============================] - 3s 4ms/step - loss: 0.0036 - accuracy: 0.0011\n",
      "Epoch 24/40\n",
      "940/940 [==============================] - 4s 4ms/step - loss: 0.0037 - accuracy: 0.0011\n",
      "Epoch 25/40\n",
      "940/940 [==============================] - 4s 4ms/step - loss: 0.0043 - accuracy: 0.0011\n",
      "Epoch 26/40\n",
      "940/940 [==============================] - 3s 4ms/step - loss: 0.0038 - accuracy: 0.0011\n",
      "Epoch 27/40\n",
      "940/940 [==============================] - 4s 4ms/step - loss: 0.0038 - accuracy: 0.0011\n",
      "Epoch 28/40\n",
      "940/940 [==============================] - 4s 4ms/step - loss: 0.0036 - accuracy: 0.0011\n",
      "Epoch 29/40\n",
      "940/940 [==============================] - 4s 4ms/step - loss: 0.0041 - accuracy: 0.0011\n",
      "Epoch 30/40\n",
      "940/940 [==============================] - 4s 4ms/step - loss: 0.0035 - accuracy: 0.0011\n",
      "Epoch 31/40\n",
      "940/940 [==============================] - 4s 4ms/step - loss: 0.0032 - accuracy: 0.0011\n",
      "Epoch 32/40\n",
      "940/940 [==============================] - 4s 4ms/step - loss: 0.0032 - accuracy: 0.0011\n",
      "Epoch 33/40\n",
      "940/940 [==============================] - 4s 4ms/step - loss: 0.0036 - accuracy: 0.0011\n",
      "Epoch 34/40\n",
      "940/940 [==============================] - 4s 4ms/step - loss: 0.0030 - accuracy: 0.0011\n",
      "Epoch 35/40\n",
      "940/940 [==============================] - 4s 4ms/step - loss: 0.0036 - accuracy: 0.0011\n",
      "Epoch 36/40\n",
      "940/940 [==============================] - 4s 4ms/step - loss: 0.0035 - accuracy: 0.0011\n",
      "Epoch 37/40\n",
      "940/940 [==============================] - 4s 4ms/step - loss: 0.0035 - accuracy: 0.0011\n",
      "Epoch 38/40\n",
      "940/940 [==============================] - 4s 4ms/step - loss: 0.0034 - accuracy: 0.0011\n",
      "Epoch 39/40\n",
      "940/940 [==============================] - 4s 4ms/step - loss: 0.0037 - accuracy: 0.0011\n",
      "Epoch 40/40\n",
      "940/940 [==============================] - 4s 4ms/step - loss: 0.0034 - accuracy: 0.0011\n"
     ]
    },
    {
     "data": {
      "text/plain": [
       "<keras.callbacks.callbacks.History at 0x1842c954d68>"
      ]
     },
     "execution_count": 16,
     "metadata": {},
     "output_type": "execute_result"
    }
   ],
   "source": [
    "regression.fit(X_train,y_train, epochs = 40, batch_size = 32)"
   ]
  },
  {
   "cell_type": "code",
   "execution_count": 17,
   "metadata": {},
   "outputs": [],
   "source": [
    "predict_price = regression.predict(X_test)"
   ]
  },
  {
   "cell_type": "code",
   "execution_count": null,
   "metadata": {},
   "outputs": [],
   "source": []
  },
  {
   "cell_type": "code",
   "execution_count": 19,
   "metadata": {},
   "outputs": [],
   "source": [
    "from tensorflow import keras"
   ]
  },
  {
   "cell_type": "code",
   "execution_count": 21,
   "metadata": {},
   "outputs": [],
   "source": [
    "keras_file = \"linear.h5\""
   ]
  },
  {
   "cell_type": "code",
   "execution_count": 22,
   "metadata": {},
   "outputs": [],
   "source": [
    "keras.models.save_model(regression, keras_file)"
   ]
  },
  {
   "cell_type": "code",
   "execution_count": 23,
   "metadata": {},
   "outputs": [
    {
     "ename": "ImportError",
     "evalue": "cannot import name 'lite'",
     "output_type": "error",
     "traceback": [
      "\u001b[1;31m---------------------------------------------------------------------------\u001b[0m",
      "\u001b[1;31mImportError\u001b[0m                               Traceback (most recent call last)",
      "\u001b[1;32m<ipython-input-23-541ce0a8679e>\u001b[0m in \u001b[0;36m<module>\u001b[1;34m\u001b[0m\n\u001b[1;32m----> 1\u001b[1;33m \u001b[1;32mfrom\u001b[0m \u001b[0mtensorflow\u001b[0m\u001b[1;33m.\u001b[0m\u001b[0mcontrib\u001b[0m \u001b[1;32mimport\u001b[0m \u001b[0mlite\u001b[0m\u001b[1;33m\u001b[0m\u001b[0m\n\u001b[0m",
      "\u001b[1;31mImportError\u001b[0m: cannot import name 'lite'"
     ]
    }
   ],
   "source": [
    "from tensorflow.contrib import lite"
   ]
  },
  {
   "cell_type": "code",
   "execution_count": null,
   "metadata": {
    "collapsed": true
   },
   "outputs": [],
   "source": [
    "converter = lite."
   ]
  },
  {
   "cell_type": "code",
   "execution_count": null,
   "metadata": {},
   "outputs": [],
   "source": []
  },
  {
   "cell_type": "code",
   "execution_count": null,
   "metadata": {},
   "outputs": [],
   "source": []
  },
  {
   "cell_type": "code",
   "execution_count": 71,
   "metadata": {},
   "outputs": [
    {
     "data": {
      "text/plain": [
       "[<matplotlib.lines.Line2D at 0x2dbfb7443c8>]"
      ]
     },
     "execution_count": 71,
     "metadata": {},
     "output_type": "execute_result"
    },
    {
     "data": {
      "image/png": "[encoded data removed]",
      "text/plain": [
       "<Figure size 432x288 with 1 Axes>"
      ]
     },
     "metadata": {
      "needs_background": "light"
     },
     "output_type": "display_data"
    }
   ],
   "source": [
    "plt.plot(predict_price, color='blue')\n",
    "plt.plot(y_test, color='red')"
   ]
  },
  {
   "cell_type": "code",
   "execution_count": null,
   "metadata": {},
   "outputs": [],
   "source": []
  }
 ],
 "metadata": {
  "kernelspec": {
   "display_name": "Python 3",
   "language": "python",
   "name": "python3"
  },
  "language_info": {
   "codemirror_mode": {
    "name": "ipython",
    "version": 3
   },
   "file_extension": ".py",
   "mimetype": "text/x-python",
   "name": "python",
   "nbconvert_exporter": "python",
   "pygments_lexer": "ipython3",
   "version": "3.6.6"
  }
 },
 "nbformat": 4,
 "nbformat_minor": 2
}
